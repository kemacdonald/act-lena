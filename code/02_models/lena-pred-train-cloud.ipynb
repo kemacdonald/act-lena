{
 "cells": [
  {
   "cell_type": "markdown",
   "metadata": {},
   "source": [
    "# Train LSTM sequence prediction models ------------------------------\n",
    "\n",
    "Neural language models are designed to learn how to predict the next \n",
    "word in a sequence given the prior context. In our case, words are \n",
    "cluster assignments for each 100-ms segment of pitch contour.\n",
    "\n",
    "This implementation of the LSTM is adapted from this tutorial: https://keras.rstudio.com/articles/examples/lstm_text_generation.html"
   ]
  },
  {
   "cell_type": "code",
   "execution_count": 18,
   "metadata": {},
   "outputs": [
    {
     "name": "stderr",
     "output_type": "stream",
     "text": [
      "\n",
      "Attaching package: ‘janitor’\n",
      "\n",
      "The following objects are masked from ‘package:stats’:\n",
      "\n",
      "    chisq.test, fisher.test\n",
      "\n"
     ]
    }
   ],
   "source": [
    "library(janitor); library(here); library(keras); library(tidyverse)\n",
    "source(here(\"code/00_config/lena-pred-dnn-config.R\"))\n",
    "source(here(\"code/00_helper_functions/lstm-train-h.R\"))"
   ]
  },
  {
   "cell_type": "code",
   "execution_count": 3,
   "metadata": {},
   "outputs": [],
   "source": [
    "# get data and flatten to a one level list of datasets to fit\n",
    "# should be n_prop_cds X n_q_shapes datasets in the list\n",
    "d_list <- read_rds(here(paths_config$lstm_sum_path, \n",
    "                        \"lena-pred-lstm-train-test.rds\")) %>% \n",
    "  flatten() "
   ]
  },
  {
   "cell_type": "code",
   "execution_count": 19,
   "metadata": {},
   "outputs": [
    {
     "name": "stdout",
     "output_type": "stream",
     "text": [
      "________________________________________________________________________________\n",
      "Layer (type)                        Output Shape                    Param #     \n",
      "================================================================================\n",
      "embedding_26 (Embedding)            (None, 10, 30)                  270         \n",
      "________________________________________________________________________________\n",
      "lstm_26 (LSTM)                      (None, 30)                      7320        \n",
      "________________________________________________________________________________\n",
      "dense_26 (Dense)                    (None, 8)                       248         \n",
      "================================================================================\n",
      "Total params: 7,838\n",
      "Trainable params: 7,838\n",
      "Non-trainable params: 0\n",
      "________________________________________________________________________________\n"
     ]
    },
    {
     "name": "stderr",
     "output_type": "stream",
     "text": [
      "New names:\n",
      "* `` -> ...1\n",
      "* `` -> ...2\n",
      "* `` -> ...3\n",
      "* `` -> ...4\n",
      "* `` -> ...5\n",
      "* … and 3 more problems\n"
     ]
    }
   ],
   "source": [
    "# create list of models for each dataset: prop CDS and n-qshapes\n",
    "mods <- d_list %>% map(create_lstm, lstm_config)\n",
    "\n",
    "# train model and generate predictions \n",
    "# the train lstm function also handles post-processing \n",
    "# and tidying the model predictions\n",
    "results_obj <- pmap(list(mods, names(mods), d_list[1]), \n",
    "                    .f = safe_train_lstm, \n",
    "                    lstm_config = lstm_config)"
   ]
  },
  {
   "cell_type": "code",
   "execution_count": null,
   "metadata": {},
   "outputs": [],
   "source": [
    "# save predictions for later analysis\n",
    "write_rds(results_obj, \n",
    "          here(paths_config$lstm_sum_path, \"lena-pred-lstm-preds.rds\"), \n",
    "          compress = \"gz\")  "
   ]
  }
 ],
 "metadata": {
  "kernelspec": {
   "display_name": "R",
   "language": "R",
   "name": "ir"
  },
  "language_info": {
   "codemirror_mode": "r",
   "file_extension": ".r",
   "mimetype": "text/x-r-source",
   "name": "R",
   "pygments_lexer": "r",
   "version": "3.5.1"
  }
 },
 "nbformat": 4,
 "nbformat_minor": 2
}
